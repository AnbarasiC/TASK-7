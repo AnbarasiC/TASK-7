{
 "cells": [
  {
   "cell_type": "code",
   "execution_count": 1,
   "id": "3d0fbbcd",
   "metadata": {
    "scrolled": true
   },
   "outputs": [
    {
     "name": "stdout",
     "output_type": "stream",
     "text": [
      "Text file file_2023-10-24_10-20-01.txt created.\n"
     ]
    }
   ],
   "source": [
    "# 1. Write a Python program using Function to which will do the following-\n",
    "# a) The function will create a text file with the current timestamp.\n",
    "# b) The file content should have the content of the current timestamp.\n",
    "\n",
    "import datetime\n",
    "\n",
    "def create_text_file_with_timestamp():\n",
    "    # Get the current timestamp\n",
    "    current_time = datetime.datetime.now()\n",
    "    timestamp = current_time.strftime(\"%Y-%m-%d_%H-%M-%S\")\n",
    "\n",
    "    # Create and write to the text file\n",
    "    file_name = f\"file_{timestamp}.txt\"\n",
    "    with open(file_name, 'w') as file:\n",
    "        file.write(f\"This is a text file created at {current_time}.\")\n",
    "\n",
    "    print(f\"Text file {file_name} created.\")\n",
    "\n",
    "create_text_file_with_timestamp()\n"
   ]
  },
  {
   "cell_type": "code",
   "execution_count": 4,
   "id": "d30aff6c",
   "metadata": {},
   "outputs": [
    {
     "name": "stdout",
     "output_type": "stream",
     "text": [
      "Content of the file file_2023-10-24_10-20-01.txt:\n",
      "This is a text file created at 2023-10-24 10:20:01.865543.\n"
     ]
    }
   ],
   "source": [
    "# 2. Write another Python function to read from a text file. The function will take the name of the text file and \n",
    "# display the content of the file into console.\n",
    "\n",
    "def read_text_file(file_name):\n",
    "    try:\n",
    "        with open(file_name, 'r') as file:\n",
    "            content = file.read()\n",
    "            print(f\"Content of the file {file_name}:\\n{content}\")\n",
    "    except FileNotFoundError:\n",
    "        print(f\"File '{file_name}' not found.\")\n",
    "    except Exception as e:\n",
    "        print(f\"An error occurred: {e}\")\n",
    "\n",
    "file_name = \"file_2023-10-24_10-20-01.txt\"  # The name of the text file\n",
    "read_text_file(file_name)"
   ]
  }
 ],
 "metadata": {
  "kernelspec": {
   "display_name": "Python 3 (ipykernel)",
   "language": "python",
   "name": "python3"
  },
  "language_info": {
   "codemirror_mode": {
    "name": "ipython",
    "version": 3
   },
   "file_extension": ".py",
   "mimetype": "text/x-python",
   "name": "python",
   "nbconvert_exporter": "python",
   "pygments_lexer": "ipython3",
   "version": "3.11.4"
  }
 },
 "nbformat": 4,
 "nbformat_minor": 5
}
